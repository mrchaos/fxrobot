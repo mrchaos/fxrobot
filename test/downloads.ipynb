{
 "cells": [
  {
   "cell_type": "code",
   "execution_count": 26,
   "metadata": {},
   "outputs": [
    {
     "name": "stderr",
     "output_type": "stream",
     "text": [
      "┌ Info: Precompiling Arrow [69666777-d1a9-59fb-9406-91d4454c9d45]\n",
      "└ @ Base loading.jl:1317\n"
     ]
    }
   ],
   "source": [
    "using Downloads\n",
    "using DataFrames\n",
    "using CSV\n",
    "using Dates\n",
    "using TimeZones\n",
    "using Chain\n",
    "import Arrow"
   ]
  },
  {
   "cell_type": "code",
   "execution_count": 27,
   "metadata": {},
   "outputs": [
    {
     "data": {
      "text/plain": [
       "10"
      ]
     },
     "execution_count": 27,
     "metadata": {},
     "output_type": "execute_result"
    }
   ],
   "source": [
    "include(\"../src/utils.jl\")\n",
    "include(\"../src/feed/arrow.jl\")\n",
    "\n",
    "ENV[\"COLUMNS\"] = 300\n",
    "ENV[\"LINES\"] = 10"
   ]
  },
  {
   "cell_type": "code",
   "execution_count": 29,
   "metadata": {},
   "outputs": [
    {
     "data": {
      "text/plain": [
       "1970-01-02T10:13:33.213"
      ]
     },
     "execution_count": 29,
     "metadata": {},
     "output_type": "execute_result"
    }
   ],
   "source": [
    "ts2dt(123213213)"
   ]
  },
  {
   "cell_type": "code",
   "execution_count": 30,
   "metadata": {},
   "outputs": [
    {
     "data": {
      "text/plain": [
       "\"match(pat, str)\""
      ]
     },
     "execution_count": 30,
     "metadata": {},
     "output_type": "execute_result"
    }
   ],
   "source": [
    "s = \"Use match(pat, str) to get the matched substring from a string.\"\n",
    "p = r\"\\b(\\w[A-Za-z0-9_]+)\\(([^\\)]*)\\)\"\n",
    "m = match(p, s)\n",
    "# => RegexMatch(\"match(pat, str)\", 1=\"match\", 2=\"pat, str\")\n",
    "# m.match #=> \"match(pat, str)\"\n",
    "m.match"
   ]
  },
  {
   "cell_type": "code",
   "execution_count": 31,
   "metadata": {},
   "outputs": [
    {
     "name": "stdout",
     "output_type": "stream",
     "text": [
      "C:\\Dev\\julia_dev\\fxrobot\\data\\csv\\monthly\n"
     ]
    },
    {
     "data": {
      "text/plain": [
       "11-element Vector{String}:\n",
       " \"C:\\\\Dev\\\\julia_dev\\\\fxrobot\\\\data\\\\csv\\\\monthly\\\\ETHUSDT-1m-2021-01.csv\"\n",
       " \"C:\\\\Dev\\\\julia_dev\\\\fxrobot\\\\data\\\\csv\\\\monthly\\\\ETHUSDT-1m-2021-02.csv\"\n",
       " \"C:\\\\Dev\\\\julia_dev\\\\fxrobot\\\\data\\\\csv\\\\monthly\\\\ETHUSDT-1m-2021-03.csv\"\n",
       " ⋮\n",
       " \"C:\\\\Dev\\\\julia_dev\\\\fxrobot\\\\data\\\\csv\\\\monthly\\\\ETHUSDT-1m-2021-10.csv\"\n",
       " \"C:\\\\Dev\\\\julia_dev\\\\fxrobot\\\\data\\\\csv\\\\monthly\\\\ETHUSDT-1m-2021-11.csv\""
      ]
     },
     "execution_count": 31,
     "metadata": {},
     "output_type": "execute_result"
    }
   ],
   "source": [
    "# out_path = \"./data/csv/monthly/ETHUSDT-1m\"\n",
    "out_path = \"C:\\\\Dev\\\\julia_dev\\\\fxrobot\\\\data\\\\csv\\\\monthly\"\n",
    "# out_path = \"./data/csv/monthly\"\n",
    "println(out_path)\n",
    "d= readdir(abspath(out_path),join=true);\n",
    "# d= readdir(out_path,join=true);\n",
    "d[isdir.(d)]\n",
    "d[.!isdir.(d)]\n",
    "d"
   ]
  },
  {
   "cell_type": "code",
   "execution_count": 36,
   "metadata": {},
   "outputs": [],
   "source": [
    "out_path = abspath(\"../data/csv/monthly/\")\n",
    "d = readdir(out_path,join=true)\n",
    "lst_files = d[isfile.(d)]\n",
    "regexp = r\"(.*)(ETHUSDT-1m)(.*)(\\.csv)\"\n",
    "# regexp = r\"(.*)\"\n",
    "df = DataFrame()\n",
    "for f in lst_files\n",
    "    m = match(regexp,f)\n",
    "    println(m.match)\n",
    "    d = DataFrame(CSV.File(m.match;header=false,delim=\",\"))\n",
    "    append!(df,d)\n",
    "end"
   ]
  },
  {
   "cell_type": "code",
   "execution_count": 38,
   "metadata": {},
   "outputs": [
    {
     "data": {
      "text/plain": [
       "Regex"
      ]
     },
     "execution_count": 38,
     "metadata": {},
     "output_type": "execute_result"
    }
   ],
   "source": [
    "typeof(regexp)"
   ]
  },
  {
   "cell_type": "code",
   "execution_count": 33,
   "metadata": {},
   "outputs": [
    {
     "data": {
      "text/html": [
       "<div class=\"data-frame\"><p>479,967 rows × 14 columns</p><table class=\"data-frame\"><thead><tr><th></th><th>t</th><th>o</th><th>h</th><th>l</th><th>c</th><th>v</th><th>T</th><th>q</th><th>n</th><th>V</th><th>Q</th><th>B</th><th>opentime</th><th>closetime</th></tr><tr><th></th><th title=\"Int64\">Int64</th><th title=\"Float64\">Float64</th><th title=\"Float64\">Float64</th><th title=\"Float64\">Float64</th><th title=\"Float64\">Float64</th><th title=\"Float64\">Float64</th><th title=\"Int64\">Int64</th><th title=\"Float64\">Float64</th><th title=\"Int64\">Int64</th><th title=\"Float64\">Float64</th><th title=\"Float64\">Float64</th><th title=\"Int64\">Int64</th><th title=\"DateTime\">DateTime</th><th title=\"DateTime\">DateTime</th></tr></thead><tbody><tr><th>1</th><td>1609459200000</td><td>736.42</td><td>737.09</td><td>735.94</td><td>737.02</td><td>647.72</td><td>1609459259999</td><td>4.76878e5</td><td>359</td><td>484.878</td><td>3.56959e5</td><td>0</td><td>2021-01-01T00:00:00</td><td>2021-01-01T00:00:59.999</td></tr><tr><th>2</th><td>1609459260000</td><td>737.12</td><td>739.0</td><td>737.06</td><td>738.74</td><td>1122.95</td><td>1609459319999</td><td>8.28662e5</td><td>643</td><td>801.453</td><td>5.91232e5</td><td>0</td><td>2021-01-01T00:01:00</td><td>2021-01-01T00:01:59.999</td></tr><tr><th>3</th><td>1609459320000</td><td>738.78</td><td>738.81</td><td>737.35</td><td>737.82</td><td>418.5</td><td>1609459379999</td><td>3.08923e5</td><td>283</td><td>202.663</td><td>1.49569e5</td><td>0</td><td>2021-01-01T00:02:00</td><td>2021-01-01T00:02:59.999</td></tr><tr><th>4</th><td>1609459380000</td><td>737.74</td><td>738.2</td><td>737.28</td><td>737.43</td><td>305.984</td><td>1609459439999</td><td>2.25753e5</td><td>251</td><td>235.368</td><td>1.73656e5</td><td>0</td><td>2021-01-01T00:03:00</td><td>2021-01-01T00:03:59.999</td></tr><tr><th>5</th><td>1609459440000</td><td>737.38</td><td>737.8</td><td>736.8</td><td>736.89</td><td>350.363</td><td>1609459499999</td><td>2.58306e5</td><td>277</td><td>217.562</td><td>1.60413e5</td><td>0</td><td>2021-01-01T00:04:00</td><td>2021-01-01T00:04:59.999</td></tr><tr><th>6</th><td>1609459500000</td><td>737.06</td><td>737.11</td><td>735.46</td><td>735.69</td><td>654.404</td><td>1609459559999</td><td>4.81658e5</td><td>494</td><td>263.41</td><td>1.93853e5</td><td>0</td><td>2021-01-01T00:05:00</td><td>2021-01-01T00:05:59.999</td></tr><tr><th>7</th><td>1609459560000</td><td>735.61</td><td>736.64</td><td>735.51</td><td>735.84</td><td>402.972</td><td>1609459619999</td><td>2.96731e5</td><td>333</td><td>243.017</td><td>1.7895e5</td><td>0</td><td>2021-01-01T00:06:00</td><td>2021-01-01T00:06:59.999</td></tr><tr><th>8</th><td>1609459620000</td><td>735.84</td><td>736.07</td><td>734.99</td><td>735.0</td><td>353.131</td><td>1609459679999</td><td>2.59689e5</td><td>359</td><td>218.661</td><td>160782.0</td><td>0</td><td>2021-01-01T00:07:00</td><td>2021-01-01T00:07:59.999</td></tr><tr><th>9</th><td>1609459680000</td><td>735.0</td><td>735.08</td><td>733.26</td><td>734.25</td><td>637.156</td><td>1609459739999</td><td>4.67713e5</td><td>604</td><td>292.028</td><td>2.1439e5</td><td>0</td><td>2021-01-01T00:08:00</td><td>2021-01-01T00:08:59.999</td></tr><tr><th>10</th><td>1609459740000</td><td>734.25</td><td>734.88</td><td>732.42</td><td>732.8</td><td>791.131</td><td>1609459799999</td><td>5.80262e5</td><td>673</td><td>424.332</td><td>3.1121e5</td><td>0</td><td>2021-01-01T00:09:00</td><td>2021-01-01T00:09:59.999</td></tr><tr><th>&vellip;</th><td>&vellip;</td><td>&vellip;</td><td>&vellip;</td><td>&vellip;</td><td>&vellip;</td><td>&vellip;</td><td>&vellip;</td><td>&vellip;</td><td>&vellip;</td><td>&vellip;</td><td>&vellip;</td><td>&vellip;</td><td>&vellip;</td><td>&vellip;</td></tr></tbody></table></div>"
      ],
      "text/latex": [
       "\\begin{tabular}{r|cccccccccccccc}\n",
       "\t& t & o & h & l & c & v & T & q & n & V & Q & B & opentime & closetime\\\\\n",
       "\t\\hline\n",
       "\t& Int64 & Float64 & Float64 & Float64 & Float64 & Float64 & Int64 & Float64 & Int64 & Float64 & Float64 & Int64 & DateTime & DateTime\\\\\n",
       "\t\\hline\n",
       "\t1 & 1609459200000 & 736.42 & 737.09 & 735.94 & 737.02 & 647.72 & 1609459259999 & 4.76878e5 & 359 & 484.878 & 3.56959e5 & 0 & 2021-01-01T00:00:00 & 2021-01-01T00:00:59.999 \\\\\n",
       "\t2 & 1609459260000 & 737.12 & 739.0 & 737.06 & 738.74 & 1122.95 & 1609459319999 & 8.28662e5 & 643 & 801.453 & 5.91232e5 & 0 & 2021-01-01T00:01:00 & 2021-01-01T00:01:59.999 \\\\\n",
       "\t3 & 1609459320000 & 738.78 & 738.81 & 737.35 & 737.82 & 418.5 & 1609459379999 & 3.08923e5 & 283 & 202.663 & 1.49569e5 & 0 & 2021-01-01T00:02:00 & 2021-01-01T00:02:59.999 \\\\\n",
       "\t4 & 1609459380000 & 737.74 & 738.2 & 737.28 & 737.43 & 305.984 & 1609459439999 & 2.25753e5 & 251 & 235.368 & 1.73656e5 & 0 & 2021-01-01T00:03:00 & 2021-01-01T00:03:59.999 \\\\\n",
       "\t5 & 1609459440000 & 737.38 & 737.8 & 736.8 & 736.89 & 350.363 & 1609459499999 & 2.58306e5 & 277 & 217.562 & 1.60413e5 & 0 & 2021-01-01T00:04:00 & 2021-01-01T00:04:59.999 \\\\\n",
       "\t6 & 1609459500000 & 737.06 & 737.11 & 735.46 & 735.69 & 654.404 & 1609459559999 & 4.81658e5 & 494 & 263.41 & 1.93853e5 & 0 & 2021-01-01T00:05:00 & 2021-01-01T00:05:59.999 \\\\\n",
       "\t7 & 1609459560000 & 735.61 & 736.64 & 735.51 & 735.84 & 402.972 & 1609459619999 & 2.96731e5 & 333 & 243.017 & 1.7895e5 & 0 & 2021-01-01T00:06:00 & 2021-01-01T00:06:59.999 \\\\\n",
       "\t8 & 1609459620000 & 735.84 & 736.07 & 734.99 & 735.0 & 353.131 & 1609459679999 & 2.59689e5 & 359 & 218.661 & 160782.0 & 0 & 2021-01-01T00:07:00 & 2021-01-01T00:07:59.999 \\\\\n",
       "\t9 & 1609459680000 & 735.0 & 735.08 & 733.26 & 734.25 & 637.156 & 1609459739999 & 4.67713e5 & 604 & 292.028 & 2.1439e5 & 0 & 2021-01-01T00:08:00 & 2021-01-01T00:08:59.999 \\\\\n",
       "\t10 & 1609459740000 & 734.25 & 734.88 & 732.42 & 732.8 & 791.131 & 1609459799999 & 5.80262e5 & 673 & 424.332 & 3.1121e5 & 0 & 2021-01-01T00:09:00 & 2021-01-01T00:09:59.999 \\\\\n",
       "\t$\\dots$ & $\\dots$ & $\\dots$ & $\\dots$ & $\\dots$ & $\\dots$ & $\\dots$ & $\\dots$ & $\\dots$ & $\\dots$ & $\\dots$ & $\\dots$ & $\\dots$ & $\\dots$ & $\\dots$ \\\\\n",
       "\\end{tabular}\n"
      ],
      "text/plain": [
       "\u001b[1m479967×14 DataFrame\u001b[0m\n",
       "\u001b[1m    Row \u001b[0m│\u001b[1m t             \u001b[0m\u001b[1m o       \u001b[0m\u001b[1m h       \u001b[0m\u001b[1m l       \u001b[0m\u001b[1m c       \u001b[0m\u001b[1m v        \u001b[0m\u001b[1m T             \u001b[0m\u001b[1m q         \u001b[0m\u001b[1m n     \u001b[0m\u001b[1m V        \u001b[0m\u001b[1m Q         \u001b[0m\u001b[1m B     \u001b[0m\u001b[1m opentime            \u001b[0m\u001b[1m closetime               \u001b[0m\n",
       "\u001b[1m        \u001b[0m│\u001b[90m Int64         \u001b[0m\u001b[90m Float64 \u001b[0m\u001b[90m Float64 \u001b[0m\u001b[90m Float64 \u001b[0m\u001b[90m Float64 \u001b[0m\u001b[90m Float64  \u001b[0m\u001b[90m Int64         \u001b[0m\u001b[90m Float64   \u001b[0m\u001b[90m Int64 \u001b[0m\u001b[90m Float64  \u001b[0m\u001b[90m Float64   \u001b[0m\u001b[90m Int64 \u001b[0m\u001b[90m DateTime            \u001b[0m\u001b[90m DateTime                \u001b[0m\n",
       "────────┼────────────────────────────────────────────────────────────────────────────────────────────────────────────────────────────────────────────────────────────────────────\n",
       "      1 │ 1609459200000   736.42   737.09   735.94   737.02   647.72   1609459259999  4.76878e5    359  484.878   3.56959e5      0  2021-01-01T00:00:00  2021-01-01T00:00:59.999\n",
       "   ⋮    │       ⋮           ⋮        ⋮        ⋮        ⋮        ⋮            ⋮            ⋮        ⋮       ⋮          ⋮        ⋮             ⋮                      ⋮\n",
       "\u001b[36m                                                                                                                                                              479966 rows omitted\u001b[0m"
      ]
     },
     "execution_count": 33,
     "metadata": {},
     "output_type": "execute_result"
    }
   ],
   "source": [
    "colnames=[:t,:o,:h,:l,:c,:v,:T,:q,:n,:V,:Q,:B]\n",
    "tc1=[:t,:T]\n",
    "tc2=[:opentime,:closetime]\n",
    "@chain df begin\n",
    "    rename!(colnames)\n",
    "    transform!(tc1.=>(t->ts2dt.(t)).=>tc2)\n",
    "end"
   ]
  },
  {
   "cell_type": "code",
   "execution_count": 34,
   "metadata": {},
   "outputs": [],
   "source": [
    "arrow_path = abspath(\"../data/arrow/ETHUSDT-1m-2021.arrow\")\n",
    "arrow_write(df,arrow_path)"
   ]
  },
  {
   "cell_type": "code",
   "execution_count": 35,
   "metadata": {},
   "outputs": [
    {
     "data": {
      "text/html": [
       "<div class=\"data-frame\"><p>479,967 rows × 14 columns</p><table class=\"data-frame\"><thead><tr><th></th><th>t</th><th>o</th><th>h</th><th>l</th><th>c</th><th>v</th><th>T</th><th>q</th><th>n</th><th>V</th><th>Q</th><th>B</th><th>opentime</th><th>closetime</th></tr><tr><th></th><th title=\"Int64\">Int64</th><th title=\"Float64\">Float64</th><th title=\"Float64\">Float64</th><th title=\"Float64\">Float64</th><th title=\"Float64\">Float64</th><th title=\"Float64\">Float64</th><th title=\"Int64\">Int64</th><th title=\"Float64\">Float64</th><th title=\"Int64\">Int64</th><th title=\"Float64\">Float64</th><th title=\"Float64\">Float64</th><th title=\"Int64\">Int64</th><th title=\"DateTime\">DateTime</th><th title=\"DateTime\">DateTime</th></tr></thead><tbody><tr><th>1</th><td>1609459200000</td><td>736.42</td><td>737.09</td><td>735.94</td><td>737.02</td><td>647.72</td><td>1609459259999</td><td>4.76878e5</td><td>359</td><td>484.878</td><td>3.56959e5</td><td>0</td><td>2021-01-01T00:00:00</td><td>2021-01-01T00:00:59.999</td></tr><tr><th>2</th><td>1609459260000</td><td>737.12</td><td>739.0</td><td>737.06</td><td>738.74</td><td>1122.95</td><td>1609459319999</td><td>8.28662e5</td><td>643</td><td>801.453</td><td>5.91232e5</td><td>0</td><td>2021-01-01T00:01:00</td><td>2021-01-01T00:01:59.999</td></tr><tr><th>3</th><td>1609459320000</td><td>738.78</td><td>738.81</td><td>737.35</td><td>737.82</td><td>418.5</td><td>1609459379999</td><td>3.08923e5</td><td>283</td><td>202.663</td><td>1.49569e5</td><td>0</td><td>2021-01-01T00:02:00</td><td>2021-01-01T00:02:59.999</td></tr><tr><th>4</th><td>1609459380000</td><td>737.74</td><td>738.2</td><td>737.28</td><td>737.43</td><td>305.984</td><td>1609459439999</td><td>2.25753e5</td><td>251</td><td>235.368</td><td>1.73656e5</td><td>0</td><td>2021-01-01T00:03:00</td><td>2021-01-01T00:03:59.999</td></tr><tr><th>5</th><td>1609459440000</td><td>737.38</td><td>737.8</td><td>736.8</td><td>736.89</td><td>350.363</td><td>1609459499999</td><td>2.58306e5</td><td>277</td><td>217.562</td><td>1.60413e5</td><td>0</td><td>2021-01-01T00:04:00</td><td>2021-01-01T00:04:59.999</td></tr><tr><th>6</th><td>1609459500000</td><td>737.06</td><td>737.11</td><td>735.46</td><td>735.69</td><td>654.404</td><td>1609459559999</td><td>4.81658e5</td><td>494</td><td>263.41</td><td>1.93853e5</td><td>0</td><td>2021-01-01T00:05:00</td><td>2021-01-01T00:05:59.999</td></tr><tr><th>7</th><td>1609459560000</td><td>735.61</td><td>736.64</td><td>735.51</td><td>735.84</td><td>402.972</td><td>1609459619999</td><td>2.96731e5</td><td>333</td><td>243.017</td><td>1.7895e5</td><td>0</td><td>2021-01-01T00:06:00</td><td>2021-01-01T00:06:59.999</td></tr><tr><th>8</th><td>1609459620000</td><td>735.84</td><td>736.07</td><td>734.99</td><td>735.0</td><td>353.131</td><td>1609459679999</td><td>2.59689e5</td><td>359</td><td>218.661</td><td>160782.0</td><td>0</td><td>2021-01-01T00:07:00</td><td>2021-01-01T00:07:59.999</td></tr><tr><th>9</th><td>1609459680000</td><td>735.0</td><td>735.08</td><td>733.26</td><td>734.25</td><td>637.156</td><td>1609459739999</td><td>4.67713e5</td><td>604</td><td>292.028</td><td>2.1439e5</td><td>0</td><td>2021-01-01T00:08:00</td><td>2021-01-01T00:08:59.999</td></tr><tr><th>10</th><td>1609459740000</td><td>734.25</td><td>734.88</td><td>732.42</td><td>732.8</td><td>791.131</td><td>1609459799999</td><td>5.80262e5</td><td>673</td><td>424.332</td><td>3.1121e5</td><td>0</td><td>2021-01-01T00:09:00</td><td>2021-01-01T00:09:59.999</td></tr><tr><th>&vellip;</th><td>&vellip;</td><td>&vellip;</td><td>&vellip;</td><td>&vellip;</td><td>&vellip;</td><td>&vellip;</td><td>&vellip;</td><td>&vellip;</td><td>&vellip;</td><td>&vellip;</td><td>&vellip;</td><td>&vellip;</td><td>&vellip;</td><td>&vellip;</td></tr></tbody></table></div>"
      ],
      "text/latex": [
       "\\begin{tabular}{r|cccccccccccccc}\n",
       "\t& t & o & h & l & c & v & T & q & n & V & Q & B & opentime & closetime\\\\\n",
       "\t\\hline\n",
       "\t& Int64 & Float64 & Float64 & Float64 & Float64 & Float64 & Int64 & Float64 & Int64 & Float64 & Float64 & Int64 & DateTime & DateTime\\\\\n",
       "\t\\hline\n",
       "\t1 & 1609459200000 & 736.42 & 737.09 & 735.94 & 737.02 & 647.72 & 1609459259999 & 4.76878e5 & 359 & 484.878 & 3.56959e5 & 0 & 2021-01-01T00:00:00 & 2021-01-01T00:00:59.999 \\\\\n",
       "\t2 & 1609459260000 & 737.12 & 739.0 & 737.06 & 738.74 & 1122.95 & 1609459319999 & 8.28662e5 & 643 & 801.453 & 5.91232e5 & 0 & 2021-01-01T00:01:00 & 2021-01-01T00:01:59.999 \\\\\n",
       "\t3 & 1609459320000 & 738.78 & 738.81 & 737.35 & 737.82 & 418.5 & 1609459379999 & 3.08923e5 & 283 & 202.663 & 1.49569e5 & 0 & 2021-01-01T00:02:00 & 2021-01-01T00:02:59.999 \\\\\n",
       "\t4 & 1609459380000 & 737.74 & 738.2 & 737.28 & 737.43 & 305.984 & 1609459439999 & 2.25753e5 & 251 & 235.368 & 1.73656e5 & 0 & 2021-01-01T00:03:00 & 2021-01-01T00:03:59.999 \\\\\n",
       "\t5 & 1609459440000 & 737.38 & 737.8 & 736.8 & 736.89 & 350.363 & 1609459499999 & 2.58306e5 & 277 & 217.562 & 1.60413e5 & 0 & 2021-01-01T00:04:00 & 2021-01-01T00:04:59.999 \\\\\n",
       "\t6 & 1609459500000 & 737.06 & 737.11 & 735.46 & 735.69 & 654.404 & 1609459559999 & 4.81658e5 & 494 & 263.41 & 1.93853e5 & 0 & 2021-01-01T00:05:00 & 2021-01-01T00:05:59.999 \\\\\n",
       "\t7 & 1609459560000 & 735.61 & 736.64 & 735.51 & 735.84 & 402.972 & 1609459619999 & 2.96731e5 & 333 & 243.017 & 1.7895e5 & 0 & 2021-01-01T00:06:00 & 2021-01-01T00:06:59.999 \\\\\n",
       "\t8 & 1609459620000 & 735.84 & 736.07 & 734.99 & 735.0 & 353.131 & 1609459679999 & 2.59689e5 & 359 & 218.661 & 160782.0 & 0 & 2021-01-01T00:07:00 & 2021-01-01T00:07:59.999 \\\\\n",
       "\t9 & 1609459680000 & 735.0 & 735.08 & 733.26 & 734.25 & 637.156 & 1609459739999 & 4.67713e5 & 604 & 292.028 & 2.1439e5 & 0 & 2021-01-01T00:08:00 & 2021-01-01T00:08:59.999 \\\\\n",
       "\t10 & 1609459740000 & 734.25 & 734.88 & 732.42 & 732.8 & 791.131 & 1609459799999 & 5.80262e5 & 673 & 424.332 & 3.1121e5 & 0 & 2021-01-01T00:09:00 & 2021-01-01T00:09:59.999 \\\\\n",
       "\t$\\dots$ & $\\dots$ & $\\dots$ & $\\dots$ & $\\dots$ & $\\dots$ & $\\dots$ & $\\dots$ & $\\dots$ & $\\dots$ & $\\dots$ & $\\dots$ & $\\dots$ & $\\dots$ & $\\dots$ \\\\\n",
       "\\end{tabular}\n"
      ],
      "text/plain": [
       "\u001b[1m479967×14 DataFrame\u001b[0m\n",
       "\u001b[1m    Row \u001b[0m│\u001b[1m t             \u001b[0m\u001b[1m o       \u001b[0m\u001b[1m h       \u001b[0m\u001b[1m l       \u001b[0m\u001b[1m c       \u001b[0m\u001b[1m v        \u001b[0m\u001b[1m T             \u001b[0m\u001b[1m q         \u001b[0m\u001b[1m n     \u001b[0m\u001b[1m V        \u001b[0m\u001b[1m Q         \u001b[0m\u001b[1m B     \u001b[0m\u001b[1m opentime            \u001b[0m\u001b[1m closetime               \u001b[0m\n",
       "\u001b[1m        \u001b[0m│\u001b[90m Int64         \u001b[0m\u001b[90m Float64 \u001b[0m\u001b[90m Float64 \u001b[0m\u001b[90m Float64 \u001b[0m\u001b[90m Float64 \u001b[0m\u001b[90m Float64  \u001b[0m\u001b[90m Int64         \u001b[0m\u001b[90m Float64   \u001b[0m\u001b[90m Int64 \u001b[0m\u001b[90m Float64  \u001b[0m\u001b[90m Float64   \u001b[0m\u001b[90m Int64 \u001b[0m\u001b[90m DateTime            \u001b[0m\u001b[90m DateTime                \u001b[0m\n",
       "────────┼────────────────────────────────────────────────────────────────────────────────────────────────────────────────────────────────────────────────────────────────────────\n",
       "      1 │ 1609459200000   736.42   737.09   735.94   737.02   647.72   1609459259999  4.76878e5    359  484.878   3.56959e5      0  2021-01-01T00:00:00  2021-01-01T00:00:59.999\n",
       "   ⋮    │       ⋮           ⋮        ⋮        ⋮        ⋮        ⋮            ⋮            ⋮        ⋮       ⋮          ⋮        ⋮             ⋮                      ⋮\n",
       "\u001b[36m                                                                                                                                                              479966 rows omitted\u001b[0m"
      ]
     },
     "execution_count": 35,
     "metadata": {},
     "output_type": "execute_result"
    }
   ],
   "source": [
    "df = arrow_read(arrow_path)\n",
    "df"
   ]
  },
  {
   "cell_type": "code",
   "execution_count": null,
   "metadata": {},
   "outputs": [],
   "source": []
  }
 ],
 "metadata": {
  "interpreter": {
   "hash": "f61b9627c54247eba94f2a5336589bb7ec3cdf4cc525c31aa546e4180d8384e0"
  },
  "kernelspec": {
   "display_name": "Julia 1.6.1",
   "language": "julia",
   "name": "julia-1.6"
  },
  "language_info": {
   "file_extension": ".jl",
   "mimetype": "application/julia",
   "name": "julia",
   "version": "1.6.1"
  },
  "orig_nbformat": 4
 },
 "nbformat": 4,
 "nbformat_minor": 2
}
